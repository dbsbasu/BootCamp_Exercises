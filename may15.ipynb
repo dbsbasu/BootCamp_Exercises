{
 "cells": [
  {
   "cell_type": "code",
   "execution_count": 1,
   "metadata": {
    "collapsed": true
   },
   "outputs": [],
   "source": [
    "%matplotlib inline\n",
    "import pandas as pd"
   ]
  },
  {
   "cell_type": "code",
   "execution_count": 2,
   "metadata": {},
   "outputs": [
    {
     "data": {
      "text/html": [
       "<style>body {\n",
       "    margin: 0;\n",
       "    font-family: Helvetica;\n",
       "}\n",
       "table.dataframe {\n",
       "    border-collapse: collapse;\n",
       "    border: none;\n",
       "}\n",
       "table.dataframe tr {\n",
       "    border: none;\n",
       "}\n",
       "table.dataframe td, table.dataframe th {\n",
       "    margin: 0;\n",
       "    border: 1px solid white;\n",
       "    padding-left: 0.25em;\n",
       "    padding-right: 0.25em;\n",
       "}\n",
       "table.dataframe th:not(:empty) {\n",
       "    background-color: #fec;\n",
       "    text-align: left;\n",
       "    font-weight: normal;\n",
       "}\n",
       "table.dataframe tr:nth-child(2) th:empty {\n",
       "    border-left: none;\n",
       "    border-right: 1px dashed #888;\n",
       "}\n",
       "table.dataframe td {\n",
       "    border: 2px solid #ccf;\n",
       "    background-color: #f4f4ff;\n",
       "}\n",
       "h3 {\n",
       "    color: white;\n",
       "    background-color: black;\n",
       "    padding: 0.5em;\n",
       "}\n",
       "</style>"
      ],
      "text/plain": [
       "<IPython.core.display.HTML object>"
      ]
     },
     "execution_count": 2,
     "metadata": {},
     "output_type": "execute_result"
    }
   ],
   "source": [
    "from IPython.core.display import HTML\n",
    "css = open('style-table.css').read() + open('style-notebook.css').read()\n",
    "HTML('<style>{}</style>'.format(css))"
   ]
  },
  {
   "cell_type": "code",
   "execution_count": 3,
   "metadata": {},
   "outputs": [
    {
     "data": {
      "text/html": [
       "<div>\n",
       "<style>\n",
       "    .dataframe thead tr:only-child th {\n",
       "        text-align: right;\n",
       "    }\n",
       "\n",
       "    .dataframe thead th {\n",
       "        text-align: left;\n",
       "    }\n",
       "\n",
       "    .dataframe tbody tr th {\n",
       "        vertical-align: top;\n",
       "    }\n",
       "</style>\n",
       "<table border=\"1\" class=\"dataframe\">\n",
       "  <thead>\n",
       "    <tr style=\"text-align: right;\">\n",
       "      <th></th>\n",
       "      <th>title</th>\n",
       "      <th>year</th>\n",
       "    </tr>\n",
       "  </thead>\n",
       "  <tbody>\n",
       "    <tr>\n",
       "      <th>0</th>\n",
       "      <td>Piano Piano Bacaksiz</td>\n",
       "      <td>1991</td>\n",
       "    </tr>\n",
       "    <tr>\n",
       "      <th>1</th>\n",
       "      <td>Abu Dahab</td>\n",
       "      <td>1954</td>\n",
       "    </tr>\n",
       "    <tr>\n",
       "      <th>2</th>\n",
       "      <td>Piccadilly Incident</td>\n",
       "      <td>1946</td>\n",
       "    </tr>\n",
       "    <tr>\n",
       "      <th>3</th>\n",
       "      <td>Party Monster</td>\n",
       "      <td>2003</td>\n",
       "    </tr>\n",
       "    <tr>\n",
       "      <th>4</th>\n",
       "      <td>Uuno Turhapuro herra Helsingin herra</td>\n",
       "      <td>1991</td>\n",
       "    </tr>\n",
       "  </tbody>\n",
       "</table>\n",
       "</div>"
      ],
      "text/plain": [
       "                                  title  year\n",
       "0                  Piano Piano Bacaksiz  1991\n",
       "1                             Abu Dahab  1954\n",
       "2                   Piccadilly Incident  1946\n",
       "3                         Party Monster  2003\n",
       "4  Uuno Turhapuro herra Helsingin herra  1991"
      ]
     },
     "execution_count": 3,
     "metadata": {},
     "output_type": "execute_result"
    }
   ],
   "source": [
    "titles = pd.DataFrame.from_csv(r\"data/titles.csv\", index_col=None)\n",
    "titles.head()"
   ]
  },
  {
   "cell_type": "code",
   "execution_count": 5,
   "metadata": {
    "collapsed": true
   },
   "outputs": [],
   "source": [
    "titles.consolidate?"
   ]
  },
  {
   "cell_type": "code",
   "execution_count": 7,
   "metadata": {},
   "outputs": [
    {
     "data": {
      "text/plain": [
       "pandas.core.frame.DataFrame"
      ]
     },
     "execution_count": 7,
     "metadata": {},
     "output_type": "execute_result"
    }
   ],
   "source": [
    "type(titles)"
   ]
  },
  {
   "cell_type": "code",
   "execution_count": 9,
   "metadata": {},
   "outputs": [
    {
     "data": {
      "text/plain": [
       "pandas.core.series.Series"
      ]
     },
     "execution_count": 9,
     "metadata": {},
     "output_type": "execute_result"
    }
   ],
   "source": [
    "type(titles['year'])"
   ]
  },
  {
   "cell_type": "code",
   "execution_count": 11,
   "metadata": {},
   "outputs": [
    {
     "data": {
      "text/plain": [
       "title    object\n",
       "year      int64\n",
       "dtype: object"
      ]
     },
     "execution_count": 11,
     "metadata": {},
     "output_type": "execute_result"
    }
   ],
   "source": [
    "titles.dtypes"
   ]
  },
  {
   "cell_type": "code",
   "execution_count": 12,
   "metadata": {
    "collapsed": true
   },
   "outputs": [],
   "source": [
    "#escape, h, b, d, z, enter"
   ]
  },
  {
   "cell_type": "code",
   "execution_count": 14,
   "metadata": {},
   "outputs": [
    {
     "data": {
      "text/plain": [
       "pandas.core.indexes.base.Index"
      ]
     },
     "execution_count": 14,
     "metadata": {},
     "output_type": "execute_result"
    }
   ],
   "source": [
    "type(titles.columns)"
   ]
  },
  {
   "cell_type": "code",
   "execution_count": 15,
   "metadata": {},
   "outputs": [
    {
     "data": {
      "text/plain": [
       "array([['Piano Piano Bacaksiz', 1991],\n",
       "       ['Abu Dahab', 1954],\n",
       "       ['Piccadilly Incident', 1946],\n",
       "       ..., \n",
       "       ['Manwon', 1978],\n",
       "       ['Fear X', 2003],\n",
       "       ['Black Snake Moan', 2006]], dtype=object)"
      ]
     },
     "execution_count": 15,
     "metadata": {},
     "output_type": "execute_result"
    }
   ],
   "source": [
    "titles.values"
   ]
  },
  {
   "cell_type": "code",
   "execution_count": 16,
   "metadata": {
    "collapsed": true
   },
   "outputs": [],
   "source": [
    "t = titles"
   ]
  },
  {
   "cell_type": "code",
   "execution_count": 25,
   "metadata": {},
   "outputs": [
    {
     "data": {
      "text/plain": [
       "0                    Piano Piano Bacaksiz\n",
       "1                               Abu Dahab\n",
       "2                     Piccadilly Incident\n",
       "3                           Party Monster\n",
       "4    Uuno Turhapuro herra Helsingin herra\n",
       "Name: title, dtype: object"
      ]
     },
     "execution_count": 25,
     "metadata": {},
     "output_type": "execute_result"
    }
   ],
   "source": [
    "m = t['title']\n",
    "m.head()"
   ]
  },
  {
   "cell_type": "code",
   "execution_count": 26,
   "metadata": {},
   "outputs": [
    {
     "data": {
      "text/plain": [
       "RangeIndex(start=0, stop=244914, step=1)"
      ]
     },
     "execution_count": 26,
     "metadata": {},
     "output_type": "execute_result"
    }
   ],
   "source": [
    "m.index"
   ]
  },
  {
   "cell_type": "code",
   "execution_count": 40,
   "metadata": {},
   "outputs": [
    {
     "data": {
      "text/html": [
       "<div>\n",
       "<style>\n",
       "    .dataframe thead tr:only-child th {\n",
       "        text-align: right;\n",
       "    }\n",
       "\n",
       "    .dataframe thead th {\n",
       "        text-align: left;\n",
       "    }\n",
       "\n",
       "    .dataframe tbody tr th {\n",
       "        vertical-align: top;\n",
       "    }\n",
       "</style>\n",
       "<table border=\"1\" class=\"dataframe\">\n",
       "  <thead>\n",
       "    <tr style=\"text-align: right;\">\n",
       "      <th></th>\n",
       "      <th>title</th>\n",
       "      <th>year</th>\n",
       "      <th>decade</th>\n",
       "    </tr>\n",
       "  </thead>\n",
       "  <tbody>\n",
       "    <tr>\n",
       "      <th>0</th>\n",
       "      <td>Piano Piano Bacaksiz</td>\n",
       "      <td>1991</td>\n",
       "      <td>1990</td>\n",
       "    </tr>\n",
       "    <tr>\n",
       "      <th>1</th>\n",
       "      <td>Abu Dahab</td>\n",
       "      <td>1954</td>\n",
       "      <td>1950</td>\n",
       "    </tr>\n",
       "    <tr>\n",
       "      <th>2</th>\n",
       "      <td>Piccadilly Incident</td>\n",
       "      <td>1946</td>\n",
       "      <td>1940</td>\n",
       "    </tr>\n",
       "    <tr>\n",
       "      <th>3</th>\n",
       "      <td>Party Monster</td>\n",
       "      <td>2003</td>\n",
       "      <td>2000</td>\n",
       "    </tr>\n",
       "    <tr>\n",
       "      <th>4</th>\n",
       "      <td>Uuno Turhapuro herra Helsingin herra</td>\n",
       "      <td>1991</td>\n",
       "      <td>1990</td>\n",
       "    </tr>\n",
       "  </tbody>\n",
       "</table>\n",
       "</div>"
      ],
      "text/plain": [
       "                                  title  year  decade\n",
       "0                  Piano Piano Bacaksiz  1991    1990\n",
       "1                             Abu Dahab  1954    1950\n",
       "2                   Piccadilly Incident  1946    1940\n",
       "3                         Party Monster  2003    2000\n",
       "4  Uuno Turhapuro herra Helsingin herra  1991    1990"
      ]
     },
     "execution_count": 40,
     "metadata": {},
     "output_type": "execute_result"
    }
   ],
   "source": [
    "titles['decade'] = titles.year // 10 * 10\n",
    "titles.head()"
   ]
  },
  {
   "cell_type": "code",
   "execution_count": 41,
   "metadata": {},
   "outputs": [
    {
     "data": {
      "text/html": [
       "<div>\n",
       "<style>\n",
       "    .dataframe thead tr:only-child th {\n",
       "        text-align: right;\n",
       "    }\n",
       "\n",
       "    .dataframe thead th {\n",
       "        text-align: left;\n",
       "    }\n",
       "\n",
       "    .dataframe tbody tr th {\n",
       "        vertical-align: top;\n",
       "    }\n",
       "</style>\n",
       "<table border=\"1\" class=\"dataframe\">\n",
       "  <thead>\n",
       "    <tr style=\"text-align: right;\">\n",
       "      <th></th>\n",
       "      <th>title</th>\n",
       "      <th>year</th>\n",
       "      <th>decade</th>\n",
       "    </tr>\n",
       "  </thead>\n",
       "  <tbody>\n",
       "    <tr>\n",
       "      <th>51396</th>\n",
       "      <td>Miss Jerry</td>\n",
       "      <td>1894</td>\n",
       "      <td>1890</td>\n",
       "    </tr>\n",
       "    <tr>\n",
       "      <th>201564</th>\n",
       "      <td>The Startled Lover</td>\n",
       "      <td>1898</td>\n",
       "      <td>1890</td>\n",
       "    </tr>\n",
       "    <tr>\n",
       "      <th>2567</th>\n",
       "      <td>Reproduction of the Corbett and Jeffries Fight</td>\n",
       "      <td>1899</td>\n",
       "      <td>1890</td>\n",
       "    </tr>\n",
       "    <tr>\n",
       "      <th>67077</th>\n",
       "      <td>Family Troubles (II)</td>\n",
       "      <td>1900</td>\n",
       "      <td>1900</td>\n",
       "    </tr>\n",
       "    <tr>\n",
       "      <th>110528</th>\n",
       "      <td>May Day Parade</td>\n",
       "      <td>1900</td>\n",
       "      <td>1900</td>\n",
       "    </tr>\n",
       "    <tr>\n",
       "      <th>199604</th>\n",
       "      <td>Pierrot's Problem, or How to Make a Fat Wife O...</td>\n",
       "      <td>1900</td>\n",
       "      <td>1900</td>\n",
       "    </tr>\n",
       "    <tr>\n",
       "      <th>104752</th>\n",
       "      <td>Soldiers of the Cross</td>\n",
       "      <td>1900</td>\n",
       "      <td>1900</td>\n",
       "    </tr>\n",
       "    <tr>\n",
       "      <th>27218</th>\n",
       "      <td>Trouble in Hogan's Alley</td>\n",
       "      <td>1900</td>\n",
       "      <td>1900</td>\n",
       "    </tr>\n",
       "    <tr>\n",
       "      <th>231839</th>\n",
       "      <td>The Divorce</td>\n",
       "      <td>1903</td>\n",
       "      <td>1900</td>\n",
       "    </tr>\n",
       "    <tr>\n",
       "      <th>5716</th>\n",
       "      <td>La malia dell'oro</td>\n",
       "      <td>1905</td>\n",
       "      <td>1900</td>\n",
       "    </tr>\n",
       "    <tr>\n",
       "      <th>68059</th>\n",
       "      <td>Valsons</td>\n",
       "      <td>1905</td>\n",
       "      <td>1900</td>\n",
       "    </tr>\n",
       "    <tr>\n",
       "      <th>231914</th>\n",
       "      <td>Highlights from The Mikado</td>\n",
       "      <td>1906</td>\n",
       "      <td>1900</td>\n",
       "    </tr>\n",
       "    <tr>\n",
       "      <th>135129</th>\n",
       "      <td>Impersonation of Nelson-McGovern Fight</td>\n",
       "      <td>1906</td>\n",
       "      <td>1900</td>\n",
       "    </tr>\n",
       "    <tr>\n",
       "      <th>61123</th>\n",
       "      <td>Lika mot lika</td>\n",
       "      <td>1906</td>\n",
       "      <td>1900</td>\n",
       "    </tr>\n",
       "    <tr>\n",
       "      <th>156234</th>\n",
       "      <td>The Joe Gans-Battling Nelson Fight</td>\n",
       "      <td>1906</td>\n",
       "      <td>1900</td>\n",
       "    </tr>\n",
       "    <tr>\n",
       "      <th>181634</th>\n",
       "      <td>The Story of the Kelly Gang</td>\n",
       "      <td>1906</td>\n",
       "      <td>1900</td>\n",
       "    </tr>\n",
       "    <tr>\n",
       "      <th>84072</th>\n",
       "      <td>Faust</td>\n",
       "      <td>1907</td>\n",
       "      <td>1900</td>\n",
       "    </tr>\n",
       "    <tr>\n",
       "      <th>158878</th>\n",
       "      <td>Ju-Jitsu</td>\n",
       "      <td>1907</td>\n",
       "      <td>1900</td>\n",
       "    </tr>\n",
       "    <tr>\n",
       "      <th>194576</th>\n",
       "      <td>Robbery Under Arms</td>\n",
       "      <td>1907</td>\n",
       "      <td>1900</td>\n",
       "    </tr>\n",
       "    <tr>\n",
       "      <th>163604</th>\n",
       "      <td>Violante</td>\n",
       "      <td>1907</td>\n",
       "      <td>1900</td>\n",
       "    </tr>\n",
       "    <tr>\n",
       "      <th>197539</th>\n",
       "      <td>Amleto</td>\n",
       "      <td>1908</td>\n",
       "      <td>1900</td>\n",
       "    </tr>\n",
       "    <tr>\n",
       "      <th>39934</th>\n",
       "      <td>Don Quijote</td>\n",
       "      <td>1908</td>\n",
       "      <td>1900</td>\n",
       "    </tr>\n",
       "    <tr>\n",
       "      <th>117980</th>\n",
       "      <td>El pastorcito de Torrente</td>\n",
       "      <td>1908</td>\n",
       "      <td>1900</td>\n",
       "    </tr>\n",
       "    <tr>\n",
       "      <th>146591</th>\n",
       "      <td>Gans-Nelson Fight</td>\n",
       "      <td>1908</td>\n",
       "      <td>1900</td>\n",
       "    </tr>\n",
       "    <tr>\n",
       "      <th>130327</th>\n",
       "      <td>Os Guaranis</td>\n",
       "      <td>1908</td>\n",
       "      <td>1900</td>\n",
       "    </tr>\n",
       "    <tr>\n",
       "      <th>197092</th>\n",
       "      <td>The Fairylogue and Radio-Plays</td>\n",
       "      <td>1908</td>\n",
       "      <td>1900</td>\n",
       "    </tr>\n",
       "    <tr>\n",
       "      <th>153324</th>\n",
       "      <td>Andreas Hofer</td>\n",
       "      <td>1909</td>\n",
       "      <td>1900</td>\n",
       "    </tr>\n",
       "    <tr>\n",
       "      <th>120869</th>\n",
       "      <td>Assalto alla Banca Popolare di Fiume</td>\n",
       "      <td>1909</td>\n",
       "      <td>1900</td>\n",
       "    </tr>\n",
       "    <tr>\n",
       "      <th>175657</th>\n",
       "      <td>Excelsior (II)</td>\n",
       "      <td>1909</td>\n",
       "      <td>1900</td>\n",
       "    </tr>\n",
       "    <tr>\n",
       "      <th>122427</th>\n",
       "      <td>Heroes of the Cross</td>\n",
       "      <td>1909</td>\n",
       "      <td>1900</td>\n",
       "    </tr>\n",
       "    <tr>\n",
       "      <th>...</th>\n",
       "      <td>...</td>\n",
       "      <td>...</td>\n",
       "      <td>...</td>\n",
       "    </tr>\n",
       "    <tr>\n",
       "      <th>75666</th>\n",
       "      <td>Curious George</td>\n",
       "      <td>2022</td>\n",
       "      <td>2020</td>\n",
       "    </tr>\n",
       "    <tr>\n",
       "      <th>53277</th>\n",
       "      <td>Echogeddon Unleashed</td>\n",
       "      <td>2022</td>\n",
       "      <td>2020</td>\n",
       "    </tr>\n",
       "    <tr>\n",
       "      <th>106897</th>\n",
       "      <td>Fantastic Beasts and Where to Find Them 4</td>\n",
       "      <td>2022</td>\n",
       "      <td>2020</td>\n",
       "    </tr>\n",
       "    <tr>\n",
       "      <th>19367</th>\n",
       "      <td>Infinite Payback 2: Our Darkest Hour</td>\n",
       "      <td>2022</td>\n",
       "      <td>2020</td>\n",
       "    </tr>\n",
       "    <tr>\n",
       "      <th>143347</th>\n",
       "      <td>Listen. Serve. Destroy.</td>\n",
       "      <td>2022</td>\n",
       "      <td>2020</td>\n",
       "    </tr>\n",
       "    <tr>\n",
       "      <th>54012</th>\n",
       "      <td>Nothing Is Going to Hurt You</td>\n",
       "      <td>2022</td>\n",
       "      <td>2020</td>\n",
       "    </tr>\n",
       "    <tr>\n",
       "      <th>94008</th>\n",
       "      <td>Pat &amp; Norman</td>\n",
       "      <td>2022</td>\n",
       "      <td>2020</td>\n",
       "    </tr>\n",
       "    <tr>\n",
       "      <th>156908</th>\n",
       "      <td>Power Rangers 6</td>\n",
       "      <td>2022</td>\n",
       "      <td>2020</td>\n",
       "    </tr>\n",
       "    <tr>\n",
       "      <th>138276</th>\n",
       "      <td>Priestess of Egypt</td>\n",
       "      <td>2022</td>\n",
       "      <td>2020</td>\n",
       "    </tr>\n",
       "    <tr>\n",
       "      <th>177125</th>\n",
       "      <td>The Dave Lory X Jeff Buckley Story</td>\n",
       "      <td>2022</td>\n",
       "      <td>2020</td>\n",
       "    </tr>\n",
       "    <tr>\n",
       "      <th>31957</th>\n",
       "      <td>The Mahabharata: Part 2</td>\n",
       "      <td>2022</td>\n",
       "      <td>2020</td>\n",
       "    </tr>\n",
       "    <tr>\n",
       "      <th>150354</th>\n",
       "      <td>Untitled Illumination Entertainment Project</td>\n",
       "      <td>2022</td>\n",
       "      <td>2020</td>\n",
       "    </tr>\n",
       "    <tr>\n",
       "      <th>135874</th>\n",
       "      <td>Untitled Illumination Entertainment Project (II)</td>\n",
       "      <td>2022</td>\n",
       "      <td>2020</td>\n",
       "    </tr>\n",
       "    <tr>\n",
       "      <th>168887</th>\n",
       "      <td>Will &amp; Liz: Chapter Two</td>\n",
       "      <td>2022</td>\n",
       "      <td>2020</td>\n",
       "    </tr>\n",
       "    <tr>\n",
       "      <th>56806</th>\n",
       "      <td>You fucked the wrong Guy</td>\n",
       "      <td>2022</td>\n",
       "      <td>2020</td>\n",
       "    </tr>\n",
       "    <tr>\n",
       "      <th>28289</th>\n",
       "      <td>Zuck</td>\n",
       "      <td>2022</td>\n",
       "      <td>2020</td>\n",
       "    </tr>\n",
       "    <tr>\n",
       "      <th>107134</th>\n",
       "      <td>2 Seconds</td>\n",
       "      <td>2023</td>\n",
       "      <td>2020</td>\n",
       "    </tr>\n",
       "    <tr>\n",
       "      <th>77108</th>\n",
       "      <td>Dag III</td>\n",
       "      <td>2023</td>\n",
       "      <td>2020</td>\n",
       "    </tr>\n",
       "    <tr>\n",
       "      <th>188829</th>\n",
       "      <td>Downfall Warfare</td>\n",
       "      <td>2023</td>\n",
       "      <td>2020</td>\n",
       "    </tr>\n",
       "    <tr>\n",
       "      <th>182397</th>\n",
       "      <td>Roughneck Riders</td>\n",
       "      <td>2023</td>\n",
       "      <td>2020</td>\n",
       "    </tr>\n",
       "    <tr>\n",
       "      <th>13636</th>\n",
       "      <td>The Zero Century: Harlock</td>\n",
       "      <td>2023</td>\n",
       "      <td>2020</td>\n",
       "    </tr>\n",
       "    <tr>\n",
       "      <th>36939</th>\n",
       "      <td>Avatar 4</td>\n",
       "      <td>2024</td>\n",
       "      <td>2020</td>\n",
       "    </tr>\n",
       "    <tr>\n",
       "      <th>36582</th>\n",
       "      <td>Despicable Me 4</td>\n",
       "      <td>2024</td>\n",
       "      <td>2020</td>\n",
       "    </tr>\n",
       "    <tr>\n",
       "      <th>143099</th>\n",
       "      <td>Fantastic Beasts and Where to Find Them 5</td>\n",
       "      <td>2024</td>\n",
       "      <td>2020</td>\n",
       "    </tr>\n",
       "    <tr>\n",
       "      <th>48280</th>\n",
       "      <td>The Dark Room</td>\n",
       "      <td>2024</td>\n",
       "      <td>2020</td>\n",
       "    </tr>\n",
       "    <tr>\n",
       "      <th>229220</th>\n",
       "      <td>The Dreams I Have</td>\n",
       "      <td>2024</td>\n",
       "      <td>2020</td>\n",
       "    </tr>\n",
       "    <tr>\n",
       "      <th>206196</th>\n",
       "      <td>War in Black</td>\n",
       "      <td>2024</td>\n",
       "      <td>2020</td>\n",
       "    </tr>\n",
       "    <tr>\n",
       "      <th>93316</th>\n",
       "      <td>Avatar 5</td>\n",
       "      <td>2025</td>\n",
       "      <td>2020</td>\n",
       "    </tr>\n",
       "    <tr>\n",
       "      <th>182134</th>\n",
       "      <td>The Zero Century: Maetel</td>\n",
       "      <td>2026</td>\n",
       "      <td>2020</td>\n",
       "    </tr>\n",
       "    <tr>\n",
       "      <th>145824</th>\n",
       "      <td>100 Years</td>\n",
       "      <td>2115</td>\n",
       "      <td>2110</td>\n",
       "    </tr>\n",
       "  </tbody>\n",
       "</table>\n",
       "<p>244914 rows × 3 columns</p>\n",
       "</div>"
      ],
      "text/plain": [
       "                                                    title  year  decade\n",
       "51396                                          Miss Jerry  1894    1890\n",
       "201564                                 The Startled Lover  1898    1890\n",
       "2567       Reproduction of the Corbett and Jeffries Fight  1899    1890\n",
       "67077                                Family Troubles (II)  1900    1900\n",
       "110528                                     May Day Parade  1900    1900\n",
       "199604  Pierrot's Problem, or How to Make a Fat Wife O...  1900    1900\n",
       "104752                              Soldiers of the Cross  1900    1900\n",
       "27218                            Trouble in Hogan's Alley  1900    1900\n",
       "231839                                        The Divorce  1903    1900\n",
       "5716                                    La malia dell'oro  1905    1900\n",
       "68059                                             Valsons  1905    1900\n",
       "231914                         Highlights from The Mikado  1906    1900\n",
       "135129             Impersonation of Nelson-McGovern Fight  1906    1900\n",
       "61123                                       Lika mot lika  1906    1900\n",
       "156234                 The Joe Gans-Battling Nelson Fight  1906    1900\n",
       "181634                        The Story of the Kelly Gang  1906    1900\n",
       "84072                                               Faust  1907    1900\n",
       "158878                                           Ju-Jitsu  1907    1900\n",
       "194576                                 Robbery Under Arms  1907    1900\n",
       "163604                                           Violante  1907    1900\n",
       "197539                                             Amleto  1908    1900\n",
       "39934                                         Don Quijote  1908    1900\n",
       "117980                          El pastorcito de Torrente  1908    1900\n",
       "146591                                  Gans-Nelson Fight  1908    1900\n",
       "130327                                        Os Guaranis  1908    1900\n",
       "197092                     The Fairylogue and Radio-Plays  1908    1900\n",
       "153324                                      Andreas Hofer  1909    1900\n",
       "120869               Assalto alla Banca Popolare di Fiume  1909    1900\n",
       "175657                                     Excelsior (II)  1909    1900\n",
       "122427                                Heroes of the Cross  1909    1900\n",
       "...                                                   ...   ...     ...\n",
       "75666                                      Curious George  2022    2020\n",
       "53277                                Echogeddon Unleashed  2022    2020\n",
       "106897          Fantastic Beasts and Where to Find Them 4  2022    2020\n",
       "19367                Infinite Payback 2: Our Darkest Hour  2022    2020\n",
       "143347                            Listen. Serve. Destroy.  2022    2020\n",
       "54012                        Nothing Is Going to Hurt You  2022    2020\n",
       "94008                                        Pat & Norman  2022    2020\n",
       "156908                                    Power Rangers 6  2022    2020\n",
       "138276                                 Priestess of Egypt  2022    2020\n",
       "177125                 The Dave Lory X Jeff Buckley Story  2022    2020\n",
       "31957                             The Mahabharata: Part 2  2022    2020\n",
       "150354        Untitled Illumination Entertainment Project  2022    2020\n",
       "135874   Untitled Illumination Entertainment Project (II)  2022    2020\n",
       "168887                            Will & Liz: Chapter Two  2022    2020\n",
       "56806                            You fucked the wrong Guy  2022    2020\n",
       "28289                                                Zuck  2022    2020\n",
       "107134                                          2 Seconds  2023    2020\n",
       "77108                                             Dag III  2023    2020\n",
       "188829                                   Downfall Warfare  2023    2020\n",
       "182397                                   Roughneck Riders  2023    2020\n",
       "13636                           The Zero Century: Harlock  2023    2020\n",
       "36939                                            Avatar 4  2024    2020\n",
       "36582                                     Despicable Me 4  2024    2020\n",
       "143099          Fantastic Beasts and Where to Find Them 5  2024    2020\n",
       "48280                                       The Dark Room  2024    2020\n",
       "229220                                  The Dreams I Have  2024    2020\n",
       "206196                                       War in Black  2024    2020\n",
       "93316                                            Avatar 5  2025    2020\n",
       "182134                           The Zero Century: Maetel  2026    2020\n",
       "145824                                          100 Years  2115    2110\n",
       "\n",
       "[244914 rows x 3 columns]"
      ]
     },
     "execution_count": 41,
     "metadata": {},
     "output_type": "execute_result"
    }
   ],
   "source": [
    "t.sort_values(['year','title'])"
   ]
  },
  {
   "cell_type": "code",
   "execution_count": null,
   "metadata": {
    "collapsed": true
   },
   "outputs": [],
   "source": []
  },
  {
   "cell_type": "code",
   "execution_count": null,
   "metadata": {
    "collapsed": true
   },
   "outputs": [],
   "source": []
  },
  {
   "cell_type": "code",
   "execution_count": null,
   "metadata": {
    "collapsed": true
   },
   "outputs": [],
   "source": []
  },
  {
   "cell_type": "code",
   "execution_count": null,
   "metadata": {
    "collapsed": true
   },
   "outputs": [],
   "source": []
  }
 ],
 "metadata": {
  "kernelspec": {
   "display_name": "Python 3",
   "language": "python",
   "name": "python3"
  },
  "language_info": {
   "codemirror_mode": {
    "name": "ipython",
    "version": 3
   },
   "file_extension": ".py",
   "mimetype": "text/x-python",
   "name": "python",
   "nbconvert_exporter": "python",
   "pygments_lexer": "ipython3",
   "version": "3.6.3"
  }
 },
 "nbformat": 4,
 "nbformat_minor": 2
}
